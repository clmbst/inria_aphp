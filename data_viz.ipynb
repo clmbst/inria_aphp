{
 "cells": [
  {
   "cell_type": "markdown",
   "metadata": {},
   "source": [
    "# Visualisation des données"
   ]
  },
  {
   "cell_type": "code",
   "execution_count": 88,
   "metadata": {},
   "outputs": [],
   "source": [
    "import pandas as pd\n",
    "from sqlalchemy import create_engine\n",
    "import numpy as np\n",
    "from statsmodels.stats.proportion import proportion_confint\n",
    "import seaborn as sns\n",
    "import matplotlib.pyplot as plt\n",
    "plt.rcParams['figure.figsize'] = [15, 8]"
   ]
  },
  {
   "cell_type": "code",
   "execution_count": 208,
   "metadata": {},
   "outputs": [
    {
     "data": {
      "text/html": [
       "<div>\n",
       "<style scoped>\n",
       "    .dataframe tbody tr th:only-of-type {\n",
       "        vertical-align: middle;\n",
       "    }\n",
       "\n",
       "    .dataframe tbody tr th {\n",
       "        vertical-align: top;\n",
       "    }\n",
       "\n",
       "    .dataframe thead th {\n",
       "        text-align: right;\n",
       "    }\n",
       "</style>\n",
       "<table border=\"1\" class=\"dataframe\">\n",
       "  <thead>\n",
       "    <tr style=\"text-align: right;\">\n",
       "      <th></th>\n",
       "      <th>state_name</th>\n",
       "      <th>state</th>\n",
       "      <th>population</th>\n",
       "      <th>area</th>\n",
       "      <th>density</th>\n",
       "    </tr>\n",
       "  </thead>\n",
       "  <tbody>\n",
       "    <tr>\n",
       "      <th>0</th>\n",
       "      <td>Australian Capital Territory</td>\n",
       "      <td>act</td>\n",
       "      <td>390800</td>\n",
       "      <td>2280</td>\n",
       "      <td>171,40</td>\n",
       "    </tr>\n",
       "    <tr>\n",
       "      <th>1</th>\n",
       "      <td>Victoria</td>\n",
       "      <td>vic</td>\n",
       "      <td>5938100</td>\n",
       "      <td>227416</td>\n",
       "      <td>26,11</td>\n",
       "    </tr>\n",
       "    <tr>\n",
       "      <th>2</th>\n",
       "      <td>New South Wales</td>\n",
       "      <td>nsw</td>\n",
       "      <td>7618200</td>\n",
       "      <td>800641</td>\n",
       "      <td>9,52</td>\n",
       "    </tr>\n",
       "    <tr>\n",
       "      <th>3</th>\n",
       "      <td>Tasmania</td>\n",
       "      <td>tas</td>\n",
       "      <td>516600</td>\n",
       "      <td>68401</td>\n",
       "      <td>7,55</td>\n",
       "    </tr>\n",
       "    <tr>\n",
       "      <th>4</th>\n",
       "      <td>Queensland</td>\n",
       "      <td>qld</td>\n",
       "      <td>4779400</td>\n",
       "      <td>1730647</td>\n",
       "      <td>2,76</td>\n",
       "    </tr>\n",
       "    <tr>\n",
       "      <th>5</th>\n",
       "      <td>South Australia</td>\n",
       "      <td>sa</td>\n",
       "      <td>1698600</td>\n",
       "      <td>983482</td>\n",
       "      <td>1,73</td>\n",
       "    </tr>\n",
       "    <tr>\n",
       "      <th>6</th>\n",
       "      <td>Western Australia</td>\n",
       "      <td>wa</td>\n",
       "      <td>2591600</td>\n",
       "      <td>2529875</td>\n",
       "      <td>1,02</td>\n",
       "    </tr>\n",
       "    <tr>\n",
       "      <th>7</th>\n",
       "      <td>Northern Territory</td>\n",
       "      <td>nt</td>\n",
       "      <td>244600</td>\n",
       "      <td>1349129</td>\n",
       "      <td>,18</td>\n",
       "    </tr>\n",
       "  </tbody>\n",
       "</table>\n",
       "</div>"
      ],
      "text/plain": [
       "                     state_name state  population     area density\n",
       "0  Australian Capital Territory   act      390800     2280  171,40\n",
       "1                      Victoria   vic     5938100   227416   26,11\n",
       "2               New South Wales   nsw     7618200   800641    9,52\n",
       "3                      Tasmania   tas      516600    68401    7,55\n",
       "4                    Queensland   qld     4779400  1730647    2,76\n",
       "5               South Australia    sa     1698600   983482    1,73\n",
       "6             Western Australia    wa     2591600  2529875    1,02\n",
       "7            Northern Territory    nt      244600  1349129     ,18"
      ]
     },
     "execution_count": 208,
     "metadata": {},
     "output_type": "execute_result"
    }
   ],
   "source": [
    "engine = create_engine('sqlite:///Data/data.db', echo=False)\n",
    "con = engine.connect()\n",
    "clean_df = pd.read_sql('select * from clean_data', con=con)\n",
    "con.close()\n",
    "clean_df.pcr.fillna(\"Not tested\", inplace=True)\n",
    "\n",
    "## Australian state information (population and area size)\n",
    "## downloaded from https://www.worldatlas.com/articles/which-australian-states-territories-have-the-highest-density-of-population.html\n",
    "australia_state = pd.read_csv(\"Data/state_info.csv\", sep=\";\")\n",
    "australia_state"
   ]
  },
  {
   "cell_type": "code",
   "execution_count": 3,
   "metadata": {},
   "outputs": [
    {
     "data": {
      "text/html": [
       "<div>\n",
       "<style scoped>\n",
       "    .dataframe tbody tr th:only-of-type {\n",
       "        vertical-align: middle;\n",
       "    }\n",
       "\n",
       "    .dataframe tbody tr th {\n",
       "        vertical-align: top;\n",
       "    }\n",
       "\n",
       "    .dataframe thead th {\n",
       "        text-align: right;\n",
       "    }\n",
       "</style>\n",
       "<table border=\"1\" class=\"dataframe\">\n",
       "  <thead>\n",
       "    <tr style=\"text-align: right;\">\n",
       "      <th></th>\n",
       "      <th>index</th>\n",
       "      <th>patient_id</th>\n",
       "      <th>given_name</th>\n",
       "      <th>surname</th>\n",
       "      <th>street_number</th>\n",
       "      <th>address_1</th>\n",
       "      <th>suburb</th>\n",
       "      <th>postcode</th>\n",
       "      <th>state</th>\n",
       "      <th>date_of_birth</th>\n",
       "      <th>...</th>\n",
       "      <th>phone_number</th>\n",
       "      <th>address_2</th>\n",
       "      <th>test</th>\n",
       "      <th>estimated_age</th>\n",
       "      <th>clean_state</th>\n",
       "      <th>state_match_score</th>\n",
       "      <th>source_state</th>\n",
       "      <th>state_code</th>\n",
       "      <th>is_valid_phone_number</th>\n",
       "      <th>pcr</th>\n",
       "    </tr>\n",
       "  </thead>\n",
       "  <tbody>\n",
       "    <tr>\n",
       "      <th>0</th>\n",
       "      <td>17199</td>\n",
       "      <td>998607</td>\n",
       "      <td>kye</td>\n",
       "      <td>rollins</td>\n",
       "      <td>40.0</td>\n",
       "      <td>kangaroo court</td>\n",
       "      <td>duncraig</td>\n",
       "      <td>2450</td>\n",
       "      <td>qld</td>\n",
       "      <td>19731223.0</td>\n",
       "      <td>...</td>\n",
       "      <td>04 19919085</td>\n",
       "      <td>None</td>\n",
       "      <td>1973-12-23 00:00:00.000000</td>\n",
       "      <td>46.0</td>\n",
       "      <td>qld</td>\n",
       "      <td>100.0</td>\n",
       "      <td>qld</td>\n",
       "      <td>nsw</td>\n",
       "      <td>0</td>\n",
       "      <td>Positive</td>\n",
       "    </tr>\n",
       "    <tr>\n",
       "      <th>1</th>\n",
       "      <td>16564</td>\n",
       "      <td>242290</td>\n",
       "      <td>chantelle</td>\n",
       "      <td>alderman</td>\n",
       "      <td>45.0</td>\n",
       "      <td>None</td>\n",
       "      <td>corrimal</td>\n",
       "      <td>4610</td>\n",
       "      <td>wa</td>\n",
       "      <td>19100327.0</td>\n",
       "      <td>...</td>\n",
       "      <td>04 65278098</td>\n",
       "      <td>None</td>\n",
       "      <td>1910-03-27 00:00:00.000000</td>\n",
       "      <td>110.0</td>\n",
       "      <td>wa</td>\n",
       "      <td>100.0</td>\n",
       "      <td>wa</td>\n",
       "      <td>qld</td>\n",
       "      <td>0</td>\n",
       "      <td>Positive</td>\n",
       "    </tr>\n",
       "    <tr>\n",
       "      <th>2</th>\n",
       "      <td>4310</td>\n",
       "      <td>202239</td>\n",
       "      <td>liam</td>\n",
       "      <td>beelitz</td>\n",
       "      <td>18.0</td>\n",
       "      <td>kellway street</td>\n",
       "      <td>mermaid waters</td>\n",
       "      <td>2840</td>\n",
       "      <td>qld</td>\n",
       "      <td>19770305.0</td>\n",
       "      <td>...</td>\n",
       "      <td>08 84768009</td>\n",
       "      <td>yaraan</td>\n",
       "      <td>1977-03-05 00:00:00.000000</td>\n",
       "      <td>43.0</td>\n",
       "      <td>qld</td>\n",
       "      <td>100.0</td>\n",
       "      <td>qld</td>\n",
       "      <td>nsw</td>\n",
       "      <td>0</td>\n",
       "      <td>Positive</td>\n",
       "    </tr>\n",
       "    <tr>\n",
       "      <th>3</th>\n",
       "      <td>13233</td>\n",
       "      <td>651250</td>\n",
       "      <td>aidyn</td>\n",
       "      <td>fernando</td>\n",
       "      <td>26.0</td>\n",
       "      <td>eggleston crescent</td>\n",
       "      <td>bluff</td>\n",
       "      <td>3754</td>\n",
       "      <td>nsw</td>\n",
       "      <td>19390418.0</td>\n",
       "      <td>...</td>\n",
       "      <td>04 59903074</td>\n",
       "      <td>None</td>\n",
       "      <td>1939-04-18 00:00:00.000000</td>\n",
       "      <td>80.0</td>\n",
       "      <td>nsw</td>\n",
       "      <td>100.0</td>\n",
       "      <td>nsw</td>\n",
       "      <td>vic</td>\n",
       "      <td>0</td>\n",
       "      <td>Positive</td>\n",
       "    </tr>\n",
       "    <tr>\n",
       "      <th>4</th>\n",
       "      <td>8829</td>\n",
       "      <td>783189</td>\n",
       "      <td>hanna</td>\n",
       "      <td>thandi</td>\n",
       "      <td>31.0</td>\n",
       "      <td>amagula avenue</td>\n",
       "      <td>labrador</td>\n",
       "      <td>2580</td>\n",
       "      <td>vic</td>\n",
       "      <td>19650226.0</td>\n",
       "      <td>...</td>\n",
       "      <td>03 66497842</td>\n",
       "      <td>fraser lodge</td>\n",
       "      <td>1965-02-26 00:00:00.000000</td>\n",
       "      <td>55.0</td>\n",
       "      <td>vic</td>\n",
       "      <td>100.0</td>\n",
       "      <td>vic</td>\n",
       "      <td>nsw</td>\n",
       "      <td>0</td>\n",
       "      <td>Positive</td>\n",
       "    </tr>\n",
       "  </tbody>\n",
       "</table>\n",
       "<p>5 rows × 21 columns</p>\n",
       "</div>"
      ],
      "text/plain": [
       "   index  patient_id given_name   surname  street_number           address_1  \\\n",
       "0  17199      998607        kye   rollins           40.0      kangaroo court   \n",
       "1  16564      242290  chantelle  alderman           45.0                None   \n",
       "2   4310      202239       liam   beelitz           18.0      kellway street   \n",
       "3  13233      651250      aidyn  fernando           26.0  eggleston crescent   \n",
       "4   8829      783189      hanna    thandi           31.0      amagula avenue   \n",
       "\n",
       "           suburb postcode state  date_of_birth  ...  phone_number  \\\n",
       "0        duncraig     2450   qld     19731223.0  ...   04 19919085   \n",
       "1        corrimal     4610    wa     19100327.0  ...   04 65278098   \n",
       "2  mermaid waters     2840   qld     19770305.0  ...   08 84768009   \n",
       "3           bluff     3754   nsw     19390418.0  ...   04 59903074   \n",
       "4        labrador     2580   vic     19650226.0  ...   03 66497842   \n",
       "\n",
       "      address_2                        test estimated_age  clean_state  \\\n",
       "0          None  1973-12-23 00:00:00.000000          46.0          qld   \n",
       "1          None  1910-03-27 00:00:00.000000         110.0           wa   \n",
       "2        yaraan  1977-03-05 00:00:00.000000          43.0          qld   \n",
       "3          None  1939-04-18 00:00:00.000000          80.0          nsw   \n",
       "4  fraser lodge  1965-02-26 00:00:00.000000          55.0          vic   \n",
       "\n",
       "  state_match_score  source_state state_code is_valid_phone_number       pcr  \n",
       "0             100.0           qld        nsw                     0  Positive  \n",
       "1             100.0            wa        qld                     0  Positive  \n",
       "2             100.0           qld        nsw                     0  Positive  \n",
       "3             100.0           nsw        vic                     0  Positive  \n",
       "4             100.0           vic        nsw                     0  Positive  \n",
       "\n",
       "[5 rows x 21 columns]"
      ]
     },
     "execution_count": 3,
     "metadata": {},
     "output_type": "execute_result"
    }
   ],
   "source": [
    "clean_df.head()"
   ]
  },
  {
   "cell_type": "markdown",
   "metadata": {},
   "source": [
    "## Visualisation des données par age "
   ]
  },
  {
   "cell_type": "markdown",
   "metadata": {},
   "source": [
    "### Répartition des ages dans la population étudiée"
   ]
  },
  {
   "cell_type": "code",
   "execution_count": 189,
   "metadata": {},
   "outputs": [],
   "source": [
    "by_age_pcr_results = clean_df.groupby(['age', 'pcr'], ).size().reset_index()\n",
    "by_age_pcr_results.rename({0: 'count'}, axis=1, inplace=True)\n",
    "by_age_pcr_results.age = by_age_pcr_results.age.astype(int)"
   ]
  },
  {
   "cell_type": "code",
   "execution_count": 190,
   "metadata": {},
   "outputs": [
    {
     "data": {
      "text/plain": [
       "Text(0.5, 1.0, 'PCR test results by age')"
      ]
     },
     "execution_count": 190,
     "metadata": {},
     "output_type": "execute_result"
    },
    {
     "data": {
      "image/png": "[encoded data removed]",
      "text/plain": [
       "<Figure size 1080x576 with 1 Axes>"
      ]
     },
     "metadata": {
      "needs_background": "light"
     },
     "output_type": "display_data"
    }
   ],
   "source": [
    "ax = sns.barplot(data=by_age_pcr_results, x='age', y='count', hue='pcr', hue_order = ['Not tested', 'Negative', 'Positive'])\n",
    "ax.set_title(\"PCR test results by age\")"
   ]
  },
  {
   "cell_type": "markdown",
   "metadata": {},
   "source": [
    "La distribution des ages a deux modes : un autours de 10 ans et un atour de 30 ans. C'est une pyramide des ages inattendue (en particulier le fait qu'on n'est quasiment pas de données entre 14 et 17 ands). Cela est probablement révélateur d'un biais dans l'acquisition des données initiales. "
   ]
  },
  {
   "cell_type": "markdown",
   "metadata": {},
   "source": [
    "### Etude du taux de positivité des tests en fonction de l'âge"
   ]
  },
  {
   "cell_type": "code",
   "execution_count": 195,
   "metadata": {},
   "outputs": [
    {
     "data": {
      "text/html": [
       "<div>\n",
       "<style scoped>\n",
       "    .dataframe tbody tr th:only-of-type {\n",
       "        vertical-align: middle;\n",
       "    }\n",
       "\n",
       "    .dataframe tbody tr th {\n",
       "        vertical-align: top;\n",
       "    }\n",
       "\n",
       "    .dataframe thead th {\n",
       "        text-align: right;\n",
       "    }\n",
       "</style>\n",
       "<table border=\"1\" class=\"dataframe\">\n",
       "  <thead>\n",
       "    <tr style=\"text-align: right;\">\n",
       "      <th>pcr</th>\n",
       "      <th>age_bins</th>\n",
       "      <th>Negative</th>\n",
       "      <th>Not tested</th>\n",
       "      <th>Positive</th>\n",
       "      <th>Tested</th>\n",
       "      <th>positivity_rate</th>\n",
       "      <th>conf_int</th>\n",
       "    </tr>\n",
       "  </thead>\n",
       "  <tbody>\n",
       "    <tr>\n",
       "      <th>0</th>\n",
       "      <td>(0, 15]</td>\n",
       "      <td>481</td>\n",
       "      <td>816</td>\n",
       "      <td>179</td>\n",
       "      <td>660</td>\n",
       "      <td>0.271212</td>\n",
       "      <td>(0.23729404268024637, 0.30513019974399613)</td>\n",
       "    </tr>\n",
       "    <tr>\n",
       "      <th>1</th>\n",
       "      <td>(15, 25]</td>\n",
       "      <td>1155</td>\n",
       "      <td>1712</td>\n",
       "      <td>374</td>\n",
       "      <td>1529</td>\n",
       "      <td>0.244604</td>\n",
       "      <td>(0.22305846535066648, 0.2661501677428587)</td>\n",
       "    </tr>\n",
       "    <tr>\n",
       "      <th>2</th>\n",
       "      <td>(25, 30]</td>\n",
       "      <td>1542</td>\n",
       "      <td>2464</td>\n",
       "      <td>532</td>\n",
       "      <td>2074</td>\n",
       "      <td>0.256509</td>\n",
       "      <td>(0.23771456628824883, 0.2753037557946827)</td>\n",
       "    </tr>\n",
       "    <tr>\n",
       "      <th>3</th>\n",
       "      <td>(30, 35]</td>\n",
       "      <td>1353</td>\n",
       "      <td>2111</td>\n",
       "      <td>463</td>\n",
       "      <td>1816</td>\n",
       "      <td>0.254956</td>\n",
       "      <td>(0.23491059367769246, 0.2750013005954353)</td>\n",
       "    </tr>\n",
       "    <tr>\n",
       "      <th>4</th>\n",
       "      <td>(35, 40]</td>\n",
       "      <td>494</td>\n",
       "      <td>841</td>\n",
       "      <td>174</td>\n",
       "      <td>668</td>\n",
       "      <td>0.260479</td>\n",
       "      <td>(0.22719611618389424, 0.2937619676484411)</td>\n",
       "    </tr>\n",
       "  </tbody>\n",
       "</table>\n",
       "</div>"
      ],
      "text/plain": [
       "pcr  age_bins  Negative  Not tested  Positive  Tested  positivity_rate  \\\n",
       "0     (0, 15]       481         816       179     660         0.271212   \n",
       "1    (15, 25]      1155        1712       374    1529         0.244604   \n",
       "2    (25, 30]      1542        2464       532    2074         0.256509   \n",
       "3    (30, 35]      1353        2111       463    1816         0.254956   \n",
       "4    (35, 40]       494         841       174     668         0.260479   \n",
       "\n",
       "pcr                                    conf_int  \n",
       "0    (0.23729404268024637, 0.30513019974399613)  \n",
       "1     (0.22305846535066648, 0.2661501677428587)  \n",
       "2     (0.23771456628824883, 0.2753037557946827)  \n",
       "3     (0.23491059367769246, 0.2750013005954353)  \n",
       "4     (0.22719611618389424, 0.2937619676484411)  "
      ]
     },
     "execution_count": 195,
     "metadata": {},
     "output_type": "execute_result"
    }
   ],
   "source": [
    "clean_df['age_bins'] = pd.cut(x=clean_df['age'], bins=[0, 15, 25, 30, 35, 40])\n",
    "by_age_bins_pcr_results = clean_df.groupby(['age_bins', 'pcr']).size().reset_index()\n",
    "by_age_bins_pcr_results.rename({0: 'count'}, axis=1, inplace=True)\n",
    "positivity_rate = pd.pivot_table(by_age_bins_pcr_results, values='count', index='age_bins', columns=['pcr'])\n",
    "positivity_rate.reset_index(inplace=True)\n",
    "positivity_rate['Tested'] = positivity_rate.Positive + positivity_rate.Negative\n",
    "positivity_rate['positivity_rate'] = positivity_rate.Positive/positivity_rate.Tested\n",
    "## Estimate positivity rate confidence interval. \n",
    "positivity_rate['conf_int'] = positivity_rate.\\\n",
    "        apply(lambda row: proportion_confint(row['Positive'], row['Tested'], method='normal'), axis=1)\n",
    "positivity_rate"
   ]
  },
  {
   "cell_type": "code",
   "execution_count": 197,
   "metadata": {},
   "outputs": [
    {
     "data": {
      "image/png": "[encoded data removed]",
      "text/plain": [
       "<Figure size 1080x576 with 1 Axes>"
      ]
     },
     "metadata": {
      "needs_background": "light"
     },
     "output_type": "display_data"
    }
   ],
   "source": [
    "positivity_rate['error_inf'] = positivity_rate.apply(lambda x: x['positivity_rate'] - x['conf_int'][0], axis=1)\n",
    "positivity_rate['error_sup'] = positivity_rate.apply(lambda x: x['conf_int'][1] - x['positivity_rate'], axis=1)\n",
    "errors = np.transpose(np.asarray([[x['error_inf'], x['error_sup']] for _, x in positivity_rate.iterrows()]))\n",
    "\n",
    "plt.bar(positivity_rate.age_bins.astype(str), positivity_rate.positivity_rate)\n",
    "plt.errorbar(positivity_rate.age_bins.astype(str), positivity_rate.positivity_rate, yerr=errors, \n",
    "             linestyle='', uplims=True, lolims=True, color='black')\n",
    "plt.xlabel(\"Age bins\")\n",
    "plt.ylabel(\"Positivity rate\")\n",
    "plt.title(\"Test positivity rate as a function of ages\")\n",
    "plt.grid()"
   ]
  },
  {
   "cell_type": "markdown",
   "metadata": {},
   "source": [
    "Le taux de positivité au test est entre 25% et 26%. Il n'y a pas d'influence significative de l'âge sur le taux de positivité. "
   ]
  },
  {
   "cell_type": "markdown",
   "metadata": {},
   "source": [
    "## Visualisation des données par état"
   ]
  },
  {
   "cell_type": "markdown",
   "metadata": {},
   "source": [
    "### Taux de positivité par état"
   ]
  },
  {
   "cell_type": "code",
   "execution_count": 200,
   "metadata": {},
   "outputs": [
    {
     "data": {
      "text/html": [
       "<div>\n",
       "<style scoped>\n",
       "    .dataframe tbody tr th:only-of-type {\n",
       "        vertical-align: middle;\n",
       "    }\n",
       "\n",
       "    .dataframe tbody tr th {\n",
       "        vertical-align: top;\n",
       "    }\n",
       "\n",
       "    .dataframe thead th {\n",
       "        text-align: right;\n",
       "    }\n",
       "</style>\n",
       "<table border=\"1\" class=\"dataframe\">\n",
       "  <thead>\n",
       "    <tr style=\"text-align: right;\">\n",
       "      <th>pcr</th>\n",
       "      <th>clean_state</th>\n",
       "      <th>Negative</th>\n",
       "      <th>Not tested</th>\n",
       "      <th>Positive</th>\n",
       "      <th>Tested</th>\n",
       "      <th>positivity_rate</th>\n",
       "      <th>conf_int</th>\n",
       "    </tr>\n",
       "  </thead>\n",
       "  <tbody>\n",
       "    <tr>\n",
       "      <th>0</th>\n",
       "      <td>act</td>\n",
       "      <td>88</td>\n",
       "      <td>116</td>\n",
       "      <td>31</td>\n",
       "      <td>119</td>\n",
       "      <td>0.260504</td>\n",
       "      <td>(0.1882213537561583, 0.34828137279199745)</td>\n",
       "    </tr>\n",
       "    <tr>\n",
       "      <th>1</th>\n",
       "      <td>nsw</td>\n",
       "      <td>1923</td>\n",
       "      <td>3221</td>\n",
       "      <td>645</td>\n",
       "      <td>2568</td>\n",
       "      <td>0.251168</td>\n",
       "      <td>(0.2345867789217849, 0.2684690454892815)</td>\n",
       "    </tr>\n",
       "    <tr>\n",
       "      <th>2</th>\n",
       "      <td>nt</td>\n",
       "      <td>45</td>\n",
       "      <td>79</td>\n",
       "      <td>4</td>\n",
       "      <td>49</td>\n",
       "      <td>0.081633</td>\n",
       "      <td>(0.016893878445635127, 0.1703204378362831)</td>\n",
       "    </tr>\n",
       "    <tr>\n",
       "      <th>3</th>\n",
       "      <td>qld</td>\n",
       "      <td>1125</td>\n",
       "      <td>1778</td>\n",
       "      <td>392</td>\n",
       "      <td>1517</td>\n",
       "      <td>0.258405</td>\n",
       "      <td>(0.23693168623499405, 0.2811045632741058)</td>\n",
       "    </tr>\n",
       "    <tr>\n",
       "      <th>4</th>\n",
       "      <td>sa</td>\n",
       "      <td>463</td>\n",
       "      <td>724</td>\n",
       "      <td>134</td>\n",
       "      <td>597</td>\n",
       "      <td>0.224456</td>\n",
       "      <td>(0.19247681594057364, 0.2595892981789287)</td>\n",
       "    </tr>\n",
       "    <tr>\n",
       "      <th>5</th>\n",
       "      <td>tas</td>\n",
       "      <td>165</td>\n",
       "      <td>245</td>\n",
       "      <td>59</td>\n",
       "      <td>224</td>\n",
       "      <td>0.263393</td>\n",
       "      <td>(0.20943955803954628, 0.32563794402306)</td>\n",
       "    </tr>\n",
       "    <tr>\n",
       "      <th>6</th>\n",
       "      <td>vic</td>\n",
       "      <td>1396</td>\n",
       "      <td>2174</td>\n",
       "      <td>517</td>\n",
       "      <td>1913</td>\n",
       "      <td>0.270256</td>\n",
       "      <td>(0.25061370315944886, 0.29061172121124906)</td>\n",
       "    </tr>\n",
       "    <tr>\n",
       "      <th>7</th>\n",
       "      <td>wa</td>\n",
       "      <td>530</td>\n",
       "      <td>780</td>\n",
       "      <td>186</td>\n",
       "      <td>716</td>\n",
       "      <td>0.259777</td>\n",
       "      <td>(0.2275463601982856, 0.2918129735653511)</td>\n",
       "    </tr>\n",
       "  </tbody>\n",
       "</table>\n",
       "</div>"
      ],
      "text/plain": [
       "pcr clean_state  Negative  Not tested  Positive  Tested  positivity_rate  \\\n",
       "0           act        88         116        31     119         0.260504   \n",
       "1           nsw      1923        3221       645    2568         0.251168   \n",
       "2            nt        45          79         4      49         0.081633   \n",
       "3           qld      1125        1778       392    1517         0.258405   \n",
       "4            sa       463         724       134     597         0.224456   \n",
       "5           tas       165         245        59     224         0.263393   \n",
       "6           vic      1396        2174       517    1913         0.270256   \n",
       "7            wa       530         780       186     716         0.259777   \n",
       "\n",
       "pcr                                    conf_int  \n",
       "0     (0.1882213537561583, 0.34828137279199745)  \n",
       "1      (0.2345867789217849, 0.2684690454892815)  \n",
       "2    (0.016893878445635127, 0.1703204378362831)  \n",
       "3     (0.23693168623499405, 0.2811045632741058)  \n",
       "4     (0.19247681594057364, 0.2595892981789287)  \n",
       "5       (0.20943955803954628, 0.32563794402306)  \n",
       "6    (0.25061370315944886, 0.29061172121124906)  \n",
       "7      (0.2275463601982856, 0.2918129735653511)  "
      ]
     },
     "execution_count": 200,
     "metadata": {},
     "output_type": "execute_result"
    }
   ],
   "source": [
    "by_state_pcr_results = clean_df.groupby(['clean_state', 'pcr'], ).size().reset_index()\n",
    "by_state_pcr_results.rename({0: 'count'}, axis=1, inplace=True)\n",
    "positivity_rate = pd.pivot_table(by_state_pcr_results, values='count', index='clean_state', columns=['pcr'])\n",
    "positivity_rate.reset_index(inplace=True)\n",
    "positivity_rate['Tested'] = positivity_rate.Positive + positivity_rate.Negative\n",
    "## Estimate positivity rate confidence interval. \n",
    "positivity_rate['positivity_rate'] = positivity_rate.Positive/positivity_rate.Tested\n",
    "positivity_rate['conf_int'] = positivity_rate.\\\n",
    "        apply(lambda row: proportion_confint(row['Positive'], row['Tested'], method='binom_test'), axis=1)\n",
    "# Not here we use binomial test to estimate positiity rates confidence interval because the state\n",
    "# \"Northern territory (nt)\" has a very small tested population.\n",
    "positivity_rate"
   ]
  },
  {
   "cell_type": "code",
   "execution_count": 201,
   "metadata": {},
   "outputs": [
    {
     "data": {
      "text/plain": [
       "Text(0.5, 1.0, 'PCR number of test results by state')"
      ]
     },
     "execution_count": 201,
     "metadata": {},
     "output_type": "execute_result"
    },
    {
     "data": {
      "image/png": "[encoded data removed]",
      "text/plain": [
       "<Figure size 1080x576 with 1 Axes>"
      ]
     },
     "metadata": {
      "needs_background": "light"
     },
     "output_type": "display_data"
    }
   ],
   "source": [
    "ax = sns.barplot(data=by_state_pcr_results, x='clean_state', y='count', hue='pcr', hue_order = ['Not tested', 'Negative', 'Positive'])\n",
    "ax.set_title(\"PCR number of test results by state\")"
   ]
  },
  {
   "cell_type": "code",
   "execution_count": 202,
   "metadata": {},
   "outputs": [
    {
     "data": {
      "image/png": "[encoded data removed]",
      "text/plain": [
       "<Figure size 1080x576 with 1 Axes>"
      ]
     },
     "metadata": {
      "needs_background": "light"
     },
     "output_type": "display_data"
    }
   ],
   "source": [
    "positivity_rate['error_inf'] = positivity_rate.apply(lambda x: x['positivity_rate'] - x['conf_int'][0], axis=1)\n",
    "positivity_rate['error_sup'] = positivity_rate.apply(lambda x: x['conf_int'][1] - x['positivity_rate'], axis=1)\n",
    "errors = np.transpose(np.asarray([[x['error_inf'], x['error_sup']] for _, x in positivity_rate.iterrows()]))\n",
    "\n",
    "plt.bar(positivity_rate.clean_state, positivity_rate.positivity_rate)\n",
    "plt.errorbar(positivity_rate.clean_state, positivity_rate.positivity_rate, yerr=errors, \n",
    "             linestyle='', uplims=True, lolims=True, color='black')\n",
    "plt.xlabel(\"Sate\")\n",
    "plt.ylabel(\"Positivity rate\")\n",
    "plt.title(\"Test positivity rate as a function of state\")\n",
    "plt.grid()"
   ]
  },
  {
   "cell_type": "markdown",
   "metadata": {},
   "source": [
    "Le taux de positivité est significativement plus bas en \"Nother territory\" (a noté qu'il y a aussi eu très peu de tests dans cette région, l'estimation du taux de positivité est donc très incertaine). Cette état est aussi le moins dense d'Australie (https://www.worldatlas.com/articles/which-australian-states-territories-have-the-highest-density-of-population.html) ce qui peu expliqué que le virus soit moins présent. "
   ]
  },
  {
   "cell_type": "code",
   "execution_count": null,
   "metadata": {},
   "outputs": [],
   "source": []
  },
  {
   "cell_type": "code",
   "execution_count": null,
   "metadata": {},
   "outputs": [],
   "source": []
  }
 ],
 "metadata": {
  "kernelspec": {
   "display_name": "Python 3",
   "language": "python",
   "name": "python3"
  },
  "language_info": {
   "codemirror_mode": {
    "name": "ipython",
    "version": 3
   },
   "file_extension": ".py",
   "mimetype": "text/x-python",
   "name": "python",
   "nbconvert_exporter": "python",
   "pygments_lexer": "ipython3",
   "version": "3.8.3"
  }
 },
 "nbformat": 4,
 "nbformat_minor": 4
}
